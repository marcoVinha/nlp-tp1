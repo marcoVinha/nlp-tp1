{
 "cells": [
  {
   "cell_type": "markdown",
   "metadata": {},
   "source": [
    "# Data"
   ]
  },
  {
   "cell_type": "markdown",
   "metadata": {},
   "source": [
    "### Training data\n",
    "- Source: http://mattmahoney.net/dc/text8.zip\n",
    "- Stored in: `data/train.txt`\n",
    "\n",
    "### Analogies data\n",
    "- Source: https://raw.githubusercontent.com/nicholas-leonard/word2vec/refs/heads/master/questions-words.txt\n",
    "- Stored in: `data/analogies.txt`"
   ]
  },
  {
   "cell_type": "markdown",
   "metadata": {},
   "source": [
    "# Defining model"
   ]
  },
  {
   "cell_type": "code",
   "execution_count": null,
   "metadata": {},
   "outputs": [],
   "source": [
    "from scipy.spatial import distance\n",
    "\n",
    "def evaluate_analogy(model, word_tuple):\n",
    "    w0_embedding = model.wv[word_tuple[0]]\n",
    "    w1_embedding = model.wv[word_tuple[1]]\n",
    "    w2_embedding = model.wv[word_tuple[2]]\n",
    "    w3_embedding = model.wv[word_tuple[3]]\n",
    "\n",
    "    return distance.cosine(\n",
    "        w0_embedding - w1_embedding,\n",
    "        w3_embedding - w2_embedding,\n",
    "    )\n"
   ]
  },
  {
   "cell_type": "code",
   "execution_count": 2,
   "metadata": {},
   "outputs": [],
   "source": [
    "analogies_file_name = \"../data/analogies.txt\"\n",
    "\n",
    "with open(analogies_file_name) as file:\n",
    "    file_content = file.read().splitlines()\n",
    "\n",
    "analogies = {}\n",
    "last_key_added = None\n",
    "for line in file_content:\n",
    "    if line[0] == \":\":\n",
    "        last_key_added = line.replace(\": \", \"\")\n",
    "        analogies[last_key_added] = []\n",
    "\n",
    "    else:\n",
    "        analogies[last_key_added].append(\n",
    "            line.lower().split(\" \")\n",
    "        )\n"
   ]
  },
  {
   "cell_type": "code",
   "execution_count": 3,
   "metadata": {},
   "outputs": [],
   "source": [
    "from gensim.models import Word2Vec\n",
    "\n",
    "word_embedder = Word2Vec(\n",
    "    corpus_file=\"../data/train.txt\",\n",
    "    sg=0,\n",
    "    window=9,\n",
    "    vector_size=100,\n",
    "    epochs=10,\n",
    "    min_count=0,\n",
    ")"
   ]
  },
  {
   "cell_type": "code",
   "execution_count": 11,
   "metadata": {},
   "outputs": [
    {
     "data": {
      "text/plain": [
       "{'capital-common-countries': 1.145200044020742,\n",
       " 'capital-world': 1.0200542260520233,\n",
       " 'currency': 1.0507040328120292,\n",
       " 'city-in-state': 0.9597974135099203,\n",
       " 'family': 1.1491588860389297,\n",
       " 'gram1-adjective-to-adverb': 1.0229043717327924,\n",
       " 'gram2-opposite': 1.1038990891437972,\n",
       " 'gram3-comparative': 1.1680502487806463,\n",
       " 'gram4-superlative': 1.3427902522598905,\n",
       " 'gram5-present-participle': 1.0132598159665822,\n",
       " 'gram6-nationality-adjective': 0.9939386219094875,\n",
       " 'gram7-past-tense': 1.0164548298098048,\n",
       " 'gram8-plural': 1.0871997624037575,\n",
       " 'gram9-plural-verbs': 1.1542761835592423,\n",
       " 'overall_average': 1.0876919841428319}"
      ]
     },
     "execution_count": 11,
     "metadata": {},
     "output_type": "execute_result"
    }
   ],
   "source": [
    "import numpy as np\n",
    "\n",
    "report = {k: 0.0 for k in analogies.keys()}\n",
    "for sub_category in report.keys():\n",
    "    report[sub_category] = np.average(\n",
    "        [\n",
    "            evaluate_analogy(word_embedder, curr_sample) for curr_sample in analogies[sub_category]\n",
    "            if all([word_embedder.wv.__contains__(sample) for sample in curr_sample])\n",
    "        ]\n",
    "    )\n",
    "\n",
    "report[\"overall_average\"] = np.average(list(report.values()))\n",
    "report"
   ]
  }
 ],
 "metadata": {
  "kernelspec": {
   "display_name": ".venv",
   "language": "python",
   "name": "python3"
  },
  "language_info": {
   "codemirror_mode": {
    "name": "ipython",
    "version": 3
   },
   "file_extension": ".py",
   "mimetype": "text/x-python",
   "name": "python",
   "nbconvert_exporter": "python",
   "pygments_lexer": "ipython3",
   "version": "3.10.14"
  }
 },
 "nbformat": 4,
 "nbformat_minor": 2
}
