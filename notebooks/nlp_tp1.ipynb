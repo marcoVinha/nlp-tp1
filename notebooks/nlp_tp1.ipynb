{
 "cells": [
  {
   "cell_type": "markdown",
   "metadata": {},
   "source": [
    "# Data"
   ]
  },
  {
   "cell_type": "markdown",
   "metadata": {},
   "source": [
    "### Training data\n",
    "- Source: http://mattmahoney.net/dc/text8.zip\n",
    "- Stored in: `data/train.txt`\n",
    "\n",
    "### Analogies data\n",
    "- Source: https://raw.githubusercontent.com/nicholas-leonard/word2vec/refs/heads/master/questions-words.txt\n",
    "- Stored in: `data/analogies.txt`"
   ]
  },
  {
   "cell_type": "markdown",
   "metadata": {},
   "source": [
    "# Defining model"
   ]
  },
  {
   "cell_type": "code",
   "execution_count": 47,
   "metadata": {},
   "outputs": [],
   "source": [
    "from scipy.spatial import distance\n",
    "\n",
    "def evaluate_analogy(model, word_tuple):\n",
    "    try:\n",
    "        w0_embedding = model.wv[word_tuple[0]]\n",
    "        w1_embedding = model.wv[word_tuple[1]]\n",
    "        w2_embedding = model.wv[word_tuple[2]]\n",
    "        w3_embedding = model.wv[word_tuple[3]]\n",
    "\n",
    "        return distance.cosine(\n",
    "            w0_embedding - w1_embedding,\n",
    "            w3_embedding - w2_embedding,\n",
    "        )\n",
    "\n",
    "    except KeyError:\n",
    "        return 0.0\n"
   ]
  },
  {
   "cell_type": "code",
   "execution_count": 48,
   "metadata": {},
   "outputs": [],
   "source": [
    "analogies_file_name = \"../data/analogies.txt\"\n",
    "\n",
    "with open(analogies_file_name) as file:\n",
    "    file_content = file.read().splitlines()\n",
    "\n",
    "analogies = {}\n",
    "last_key_added = None\n",
    "for line in file_content:\n",
    "    if line[0] == \":\":\n",
    "        last_key_added = line.replace(\": \", \"\")\n",
    "        analogies[last_key_added] = []\n",
    "\n",
    "    else:\n",
    "        analogies[last_key_added].append(\n",
    "            line.split(\" \")\n",
    "        )\n"
   ]
  },
  {
   "cell_type": "code",
   "execution_count": 49,
   "metadata": {},
   "outputs": [],
   "source": [
    "from gensim.models import Word2Vec\n",
    "\n",
    "word_embedder = Word2Vec(\n",
    "    corpus_file=\"../data/train.txt\",\n",
    "    sg=0,\n",
    "    window=9,\n",
    "    vector_size=100,\n",
    "    epochs=10,\n",
    ")"
   ]
  },
  {
   "cell_type": "code",
   "execution_count": 50,
   "metadata": {},
   "outputs": [
    {
     "data": {
      "text/plain": [
       "{'capital-common-countries': 0.0,\n",
       " 'capital-world': 0.0,\n",
       " 'currency': 0.0,\n",
       " 'city-in-state': 0.0,\n",
       " 'family': 0.9685711833643577,\n",
       " 'gram1-adjective-to-adverb': 1.0344437106710933,\n",
       " 'gram2-opposite': 1.086949848286605,\n",
       " 'gram3-comparative': 1.1385346374587555,\n",
       " 'gram4-superlative': 1.150448216914919,\n",
       " 'gram5-present-participle': 1.012189168646903,\n",
       " 'gram6-nationality-adjective': 0.0,\n",
       " 'gram7-past-tense': 1.0193302541489941,\n",
       " 'gram8-plural': 1.0610290279681767,\n",
       " 'gram9-plural-verbs': 1.1479724230953072,\n",
       " 'overall_average': 0.6871048907539364}"
      ]
     },
     "execution_count": 50,
     "metadata": {},
     "output_type": "execute_result"
    }
   ],
   "source": [
    "import numpy as np\n",
    "\n",
    "report = {k: 0.0 for k in analogies.keys()}\n",
    "for sub_category in report.keys():\n",
    "    sub_category_analogies = analogies[sub_category]\n",
    "\n",
    "    report[sub_category] = np.average(\n",
    "        [evaluate_analogy(word_embedder, curr_sample) for curr_sample in sub_category_analogies]\n",
    "    )\n",
    "\n",
    "report[\"overall_average\"] = np.average(list(report.values()))\n",
    "report\n"
   ]
  }
 ],
 "metadata": {
  "kernelspec": {
   "display_name": ".venv",
   "language": "python",
   "name": "python3"
  },
  "language_info": {
   "codemirror_mode": {
    "name": "ipython",
    "version": 3
   },
   "file_extension": ".py",
   "mimetype": "text/x-python",
   "name": "python",
   "nbconvert_exporter": "python",
   "pygments_lexer": "ipython3",
   "version": "3.10.14"
  }
 },
 "nbformat": 4,
 "nbformat_minor": 2
}
